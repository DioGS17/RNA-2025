{
 "cells": [
  {
   "cell_type": "markdown",
   "metadata": {},
   "source": [
    "## Redes Neurais Artificiais 2025.1\n",
    "\n",
    "- **Disciplina**: Redes Neurais Artificiais 2025.1  \n",
    "- **Professora**: Elloá B. Guedes (ebgcosta@uea.edu.br)  \n",
    "- **Github**: http://github.com/elloa  \n",
    "        \n",
    "\n",
    "Levando em conta a base de dados **_Forest Cover Type_**, esta segunda parte do Projeto Prático 2.2 diz respeito à proposição e avaliação de múltiplas redes neurais artificiais do tipo feedforward multilayer perceptron para o problema da classificação multi-classe da cobertura florestal em uma área do Roosevelt National Forest.\n",
    "\n",
    "## Testando Redes Neurais sem os Atributos Categórios\n",
    "\n",
    "1. Abra a base de dados em questão\n",
    "2. Elimine todas as colunas relativas aos atributos categóricos\n",
    "3. Armazene o atributo alvo em uma variável y e os atributos preditores em uma variável X\n",
    "4. Efetue uma partição holdout 70/30 com o sklearn, distribuindo os exemplos de maneira aleatória\n",
    "5. Efetue o escalonamento dos atributos\n",
    "\n",
    "### Escalonando os atributos\n",
    "\n",
    "O treinamento de uma rede neural artificial é mais eficiente quando os valores que lhes são fornecidos como entrada são pequenos, pois isto favorece a convergência. Isto é feito escalonando-se todos os atributos para o intervalo [0,1], mas precisa ser feito de maneira cautelosa, para que informações do conjunto de teste não sejam fornecidas no treinamento.\n",
    "\n",
    "Há duas estratégias para tal escalonamento: normalização e padronização. Ambas possuem características particulares, vantagens e limitações, como é possível ver aqui: https://www.analyticsvidhya.com/blog/2020/04/feature-scaling-machine-learning-normalization-standardization/\n",
    "\n",
    "\n",
    "No nosso caso, vamos usar a padronização. Assim, com os atributos preditores do treinamento, isto é, X_train, deve-se subtrair a média e dividir pelo desvio padrão:\n",
    "\n",
    "X_train_std = (X_train - np.mean(X_train))/np.std(X_train)\n",
    "\n",
    "Em seguida, o mesmo deve ser feito com os atributos preditores do conjunto de testes, mas com padronização relativa ao conjunto de treinamento:\n",
    "\n",
    "X_test_std = (X_test - np.mean(X_train))/np.std(X_train)\n",
    "\n",
    "Se todo o conjunto X for utilizado na padronização, a rede neural receberá informações do conjunto de teste por meio da média e variância utilizada para preparar os dados de treinamento, o que não é desejável."
   ]
  },
  {
   "cell_type": "code",
   "execution_count": 17,
   "metadata": {},
   "outputs": [],
   "source": [
    "## Reservado para a importação de bibliotecas\n",
    "import os\n",
    "import pandas as pd\n",
    "import numpy as np\n",
    "import matplotlib.pyplot as plt\n",
    "import seaborn as sns\n",
    "from sklearn.model_selection import train_test_split\n",
    "from sklearn.neural_network import MLPClassifier, MLPRegressor\n",
    "from sklearn.metrics import accuracy_score, f1_score, precision_score, recall_score, ConfusionMatrixDisplay, confusion_matrix\n",
    "import joblib\n",
    "from joblib import Parallel, delayed\n",
    "from joblib import dump\n",
    "from itertools import product"
   ]
  },
  {
   "cell_type": "code",
   "execution_count": null,
   "metadata": {},
   "outputs": [],
   "source": [
    "# 1 - Abrindo a base de dados\n",
    "\n",
    "df = pd.read_csv('covtype.csv')\n",
    "df.head(10)"
   ]
  },
  {
   "cell_type": "code",
   "execution_count": 19,
   "metadata": {},
   "outputs": [],
   "source": [
    "# 2 - Removendo as colunas relacionadas aos atributos categóricos\n",
    "\n",
    "atributos_categoricos = ['Wilderness_Area1', 'Wilderness_Area2', 'Wilderness_Area3', 'Wilderness_Area4',\n",
    "                        'Soil_Type1', 'Soil_Type2', 'Soil_Type3', 'Soil_Type4', \n",
    "                        'Soil_Type5', 'Soil_Type6', 'Soil_Type7', 'Soil_Type8', \n",
    "                        'Soil_Type9', 'Soil_Type10', 'Soil_Type11', 'Soil_Type12', \n",
    "                        'Soil_Type13', 'Soil_Type14', 'Soil_Type15', 'Soil_Type16', \n",
    "                        'Soil_Type17', 'Soil_Type18', 'Soil_Type19', 'Soil_Type20', \n",
    "                        'Soil_Type21', 'Soil_Type22', 'Soil_Type23', 'Soil_Type24', \n",
    "                        'Soil_Type25', 'Soil_Type26', 'Soil_Type27', 'Soil_Type28', \n",
    "                        'Soil_Type29', 'Soil_Type30', 'Soil_Type31', 'Soil_Type32', \n",
    "                        'Soil_Type33', 'Soil_Type34', 'Soil_Type35', 'Soil_Type36', \n",
    "                        'Soil_Type37', 'Soil_Type38', 'Soil_Type39', 'Soil_Type40']\n",
    "\n",
    "df.drop(columns = atributos_categoricos, inplace = True)"
   ]
  },
  {
   "cell_type": "code",
   "execution_count": null,
   "metadata": {},
   "outputs": [],
   "source": [
    "# 3 - Armazenando o atributo alvo em uma variável y \n",
    "# e os atributos preditores em uma variável X\n",
    "\n",
    "X, y = df.drop(columns = 'Cover_Type'), df['Cover_Type']\n",
    "X"
   ]
  },
  {
   "cell_type": "code",
   "execution_count": 22,
   "metadata": {},
   "outputs": [],
   "source": [
    "# 4 e 5 - Criação de uma função para efetuar uma partição holdout 70/30\n",
    "# e realizar a Padronização dos conjuntos de treino e teste:\n",
    "\n",
    "def holdout_partition (X, y):\n",
    "\n",
    "    X_train, X_test, y_train, y_test = train_test_split(X, y, test_size = 0.30)\n",
    "\n",
    "    X_train_std = (X_train - np.mean(X_train))/np.std(X_train)\n",
    "\n",
    "    X_test_std = (X_test - np.mean(X_train))/np.std(X_train)\n",
    "\n",
    "    return X_train, X_test, y_train, y_test, X_train_std, X_test_std"
   ]
  },
  {
   "cell_type": "code",
   "execution_count": null,
   "metadata": {},
   "outputs": [],
   "source": [
    "X_train, X_test, y_train, y_test, X_train_std, X_test_std = holdout_partition(X, y)"
   ]
  },
  {
   "cell_type": "markdown",
   "metadata": {},
   "source": [
    "### Continuando\n",
    "\n",
    "5. Treine uma rede neural multilayer perceptron para este problema com uma única camada e dez neurônios  \n",
    "    5.1 Utilize a função de ativação ReLU  \n",
    "    5.2 Utilize o solver Adam    \n",
    "    5.3 Imprima o passo a passo do treinamento    \n",
    "    5.4 Utilize o número máximo de épocas igual a 300  \n",
    "6. Com o modelo em questão, após o treinamento, apresente:  \n",
    "    6.1 Matriz de confusão para o conjunto de teste  \n",
    "    6.2 Acurácia  \n",
    "    6.3 F-Score  \n",
    "    6.4 Precisão  \n",
    "    6.5 Revocação  \n",
    "7. Repita o treinamento da mesma rede anterior sem imprimir o passo a passo (verbose False) por 100 vezes  \n",
    "    7.1 Cada uma destas repetições deve ser feita com uma nova partição Holdout  \n",
    "    7.2 Apresente a média e o desvio padrão da acurácia e do F-Score para o conjunto de treino  \n",
    "8. Repita por 100 vezes o treinamento desta mesma rede, mas utilizando o otimizador SGD  \n",
    "    8.1 Apresente a média e o desvio padrão da acurácia e do F-Score para o conjunto de treino  \n",
    "9. Houve influência da escolha do otimizador no desempenho da rede?"
   ]
  },
  {
   "cell_type": "code",
   "execution_count": 24,
   "metadata": {},
   "outputs": [],
   "source": [
    "# 5 - Criação da rede neural MultiLayer Perceptron (MLP):\n",
    "\n",
    "mlp = MLPClassifier(\n",
    "    hidden_layer_sizes = (10,),     # 1 camada com 10 neurônios\n",
    "    activation = 'relu',            # função de ativação ReLU\n",
    "    solver = 'adam',                # solver Adam\n",
    "    max_iter = 300,                 # 300 épocas\n",
    "    verbose = True,                 # passo a passo do treinamento\n",
    ")"
   ]
  },
  {
   "cell_type": "code",
   "execution_count": null,
   "metadata": {},
   "outputs": [],
   "source": [
    "# Treinamento da rede neural MLP:\n",
    "\n",
    "mlp.fit(X_train_std, y_train)\n",
    "\n",
    "y_pred = mlp.predict(X_test_std)"
   ]
  },
  {
   "cell_type": "code",
   "execution_count": null,
   "metadata": {},
   "outputs": [],
   "source": [
    "# 6 - Matriz de Confusão\n",
    "\n",
    "fig, ax = plt.subplots(figsize = (8, 6))\n",
    "\n",
    "disp = ConfusionMatrixDisplay.from_predictions(y_test, y_pred, ax = ax, cmap = 'Greens')\n",
    "\n",
    "ax.set_xlabel(\"Rótulos Preditos\", fontsize = 10)\n",
    "ax.set_ylabel(\"Rótulos Reais\", fontsize = 10)\n",
    "\n",
    "ax.tick_params(axis = 'both', labelsize = 8)\n",
    "\n",
    "plt.show()"
   ]
  },
  {
   "cell_type": "code",
   "execution_count": null,
   "metadata": {},
   "outputs": [],
   "source": [
    "# 6 - Acurácia, Precisão, Recall e F1-Score\n",
    "\n",
    "metrics_data = {\n",
    "    'Acurácia': [accuracy_score(y_test, y_pred)],\n",
    "    'Precisão': [precision_score(y_test, y_pred, average = 'weighted', zero_division = 0)],\n",
    "    'Recall': [recall_score(y_test, y_pred, average = 'weighted', zero_division = 0)],\n",
    "    'F1-Score': [f1_score(y_test, y_pred, average = 'weighted', zero_division = 0)]\n",
    "}\n",
    "\n",
    "# Criar DataFrame e exibir em porcentagem\n",
    "df_metricas = pd.DataFrame(metrics_data, index = ['MLP 1']).T * 100\n",
    "\n",
    "# Formatar os valores para 2 casas decimais e adicionar '%'\n",
    "df_metricas = df_metricas.applymap(lambda x: f\"{x:.2f}%\")\n",
    "\n",
    "print(df_metricas)"
   ]
  },
  {
   "cell_type": "code",
   "execution_count": 28,
   "metadata": {},
   "outputs": [],
   "source": [
    "# 7 - Repetindo o treinamento da rede neural MLP anterior 100 vezes, com verbose = False :\n",
    "\n",
    "def treino_holdout_adam(X, y):\n",
    "    X_train, X_test, y_train, y_test, X_train_std, y_test_std = holdout_partition(X, y)\n",
    "    \n",
    "    mlp = MLPClassifier(\n",
    "    hidden_layer_sizes = (10,),     # 1 camada com 10 neurônios\n",
    "    activation = 'relu',            # função de ativação ReLU\n",
    "    solver = 'adam',                # solver Adam\n",
    "    max_iter = 300,                 # 300 épocas\n",
    "    verbose = False,                # sem passo a passo do treinamento\n",
    "    )\n",
    "\n",
    "    mlp.fit(X_train_std, y_train)\n",
    "    y_pred = mlp.predict(X_train_std)\n",
    "    \n",
    "    acc = accuracy_score(y_train, y_pred)\n",
    "    f1 = f1_score(y_train, y_pred, average = 'weighted', zero_division = 0)\n",
    "    return acc, f1\n",
    "\n",
    "# Executar em paralelo (usa todos os núcleos disponíveis)\n",
    "resultados_adam = Parallel(n_jobs = -1)(delayed(treino_holdout_adam)(X, y) for _ in range(100))\n",
    "\n",
    "# Separar métricas\n",
    "accs_adam, f1s_adam = zip(*resultados_adam)"
   ]
  },
  {
   "cell_type": "code",
   "execution_count": null,
   "metadata": {},
   "outputs": [],
   "source": [
    "print(\"Resultados - Adam (Treino)\")\n",
    "print(f\"Acurácia - Média: {np.mean(accs_adam):.4f}, Desvio Padrão: {np.std(accs_adam):.4f}\")\n",
    "print(f\"F1-Score - Média: {np.mean(f1s_adam):.4f}, Desvio Padrão: {np.std(f1s_adam):.4f}\")"
   ]
  },
  {
   "cell_type": "code",
   "execution_count": 30,
   "metadata": {},
   "outputs": [],
   "source": [
    "# 8 - Repetindo o treinamento com solver = \"sgd\":\n",
    "\n",
    "def treino_holdout_sgd(X, y):\n",
    "    X_train, X_test, y_train, y_test, X_train_std, y_test_std = holdout_partition(X, y)\n",
    "    \n",
    "    mlp = MLPClassifier(\n",
    "        hidden_layer_sizes = (10,),     # 1 camada com 10 neurônios\n",
    "        activation = 'relu',            # função de ativação ReLU\n",
    "        solver = 'sgd',                # solver Adam\n",
    "        max_iter = 300,                 # 300 épocas\n",
    "        verbose = False,                # sem passo a passo do treinamento\n",
    "    )\n",
    "    \n",
    "    mlp.fit(X_train_std, y_train)\n",
    "    y_pred = mlp.predict(X_train_std)\n",
    "\n",
    "    acc = accuracy_score(y_train, y_pred)\n",
    "    f1 = f1_score(y_train, y_pred, average = 'weighted', zero_division = 0)\n",
    "\n",
    "    return acc, f1\n",
    "\n",
    "resultados_sgd = Parallel(n_jobs = -1)(delayed(treino_holdout_sgd)(X, y) for _ in range(100))\n",
    "\n",
    "accs_sgd, f1s_sgd = zip(*resultados_sgd)"
   ]
  },
  {
   "cell_type": "code",
   "execution_count": null,
   "metadata": {},
   "outputs": [],
   "source": [
    "print(\"Resultados - SGD (Treino)\")\n",
    "print(f\"Acurácia - Média: {np.mean(accs_sgd):.4f}, Desvio Padrão: {np.std(accs_sgd):.4f}\")\n",
    "print(f\"F1-Score - Média: {np.mean(f1s_sgd):.4f}, Desvio Padrão: {np.std(f1s_sgd):.4f}\")"
   ]
  },
  {
   "cell_type": "code",
   "execution_count": null,
   "metadata": {},
   "outputs": [],
   "source": [
    "if np.mean(accs_adam) > np.mean(accs_sgd):\n",
    "    print(\"\\nAdam obteve melhor desempenho médio que SGD.\")\n",
    "else:\n",
    "    print(\"\\nSGD obteve melhor desempenho médio que Adam.\")\n",
    "\n",
    "# Diferença clara?\n",
    "print(f\"Diferença média de acurácia: {np.mean(accs_adam) - np.mean(accs_sgd):.4f}\")\n",
    "print(f\"Diferença média de F1-score: {np.mean(f1s_adam) - np.mean(f1s_sgd):.4f}\")"
   ]
  },
  {
   "cell_type": "code",
   "execution_count": null,
   "metadata": {},
   "outputs": [],
   "source": [
    "print(\"Maior valor:\", np.max(X))"
   ]
  },
  {
   "cell_type": "markdown",
   "metadata": {},
   "source": [
    "#### 9 - Houve influência da escolha do otimizador no desempenho da rede?\n",
    "\n",
    "A escolha do otimizador influencia significativamente o desempenho de uma rede neural, tanto em termos de acurácia quanto na velocidade de convergência durante o treinamento. Otimizadores determinam como os pesos da rede são atualizados com base no gradiente do erro, afetando diretamente a eficiência do aprendizado. Por exemplo, o otimizador Adam (Adaptive Moment Estimation) combina as vantagens de métodos como RMSProp e Momentum, adaptando dinamicamente as taxas de aprendizado para cada parâmetro com base em estimativas de momentos de primeira e segunda ordem. Isso o torna mais eficaz em muitos cenários, especialmente quando há dados ruidosos ou funções de custo complexas, o que pode explicar por que ele superou o SGD (Stochastic Gradient Descent) em seu teste. Já o SGD é mais simples e pode ser eficaz, mas costuma exigir ajustes mais cuidadosos da taxa de aprendizado e mais épocas para alcançar bons resultados."
   ]
  },
  {
   "cell_type": "markdown",
   "metadata": {},
   "source": [
    "## Discussão\n",
    "\n",
    "Nos passos anteriores, você avaliou o desempenho de uma única rede neural que contém os seguintes parâmetros: uma única camada oculta com 10 neurônios e função de ativação ReLU. O otimizador utilizado, quer seja SGD ou ADAM, trata-se do algoritmo para aproximar o gradiente do erro. Neste sentido, a escolha do otimizador é um hiperparâmetro, pois diz respeito a como a rede neural definida previamente atuará \"em tempo de execução\"  durante o processo de treinamento. Também são hiperparâmetros a quantidade de épocas, a taxa de aprendizado inicial, dentre outros.\n",
    "\n",
    "Cabe alientar também que você efetuou o treinamento desta rede por 100 vezes e apresentou os resultados em termos de média +- desvio padrão. Lembre-se que em uma rede neural há a inicialização aleatória de pesos e, em consequência, o desempenho delas está sujeito à uma flutuação estocástica. A execução destas múltiplas vezes faz com que eliminemos algum viés introduzido por uma boa ou má \"sorte\" na escolha de pesos no caso de uma única execução.\n",
    "\n",
    "Você também aprendeu uma estratégia para escalonar os atributos para uma melhor convergência da rede. Utilize-a em todos os treinamentos e testes propostos a seguir.\n",
    "\n",
    "## Propondo Novas Arquiteturas\n",
    "\n",
    "Variando  os parâmetros (uma ou duas camadas ocultas, com diferente números de neurônios em cada uma delas e a função de ativação) e o hiperparâmetros solver (Adam ou SGD) e o número de épocas (100,150 e 200), atenda ao que se pede:\n",
    "\n",
    "1. Proponha 10 arquiteturas distintas de RNAs para o problema em questão, à sua escolha\n",
    "2. Avalie cada uma das arquiteturas perante todos os hiperparâmetros apresentados por 100 vezes\n",
    "3. Como resultado da avaliação, apresente:  \n",
    "    3.1 Top-3 melhores redes no tocante à F-Score e Acurácia  \n",
    "    3.2 Repetição em que houve o melhor desempenho de cada uma dessas redes: ilustre tp, tf, fp e fn  "
   ]
  },
  {
   "cell_type": "code",
   "execution_count": 172,
   "metadata": {},
   "outputs": [],
   "source": [
    "architectures = [(10,), (16,4), (20,), (4,8), (20,20), (30,), (8,8), (16,16), (25,10), (12,6)]\n",
    "\n",
    "functions = ['relu', 'logistic']\n",
    "\n",
    "solvers = ['adam', 'sgd']\n",
    "\n",
    "epochs = [100, 150, 200]\n",
    "\n",
    "grid = list(product(architectures, functions, solvers, epochs))"
   ]
  },
  {
   "cell_type": "code",
   "execution_count": 173,
   "metadata": {},
   "outputs": [],
   "source": [
    "def get_top3(overall_averages):\n",
    "    top3 = sorted(overall_averages, key = lambda av: (av[1], av[0]), reverse = True)[:3]\n",
    "\n",
    "    print(\"\\nTop-3 modelos por Acurácia e F1-score (médias):\\n\")\n",
    "\n",
    "    for i, (f1, acc, idx, _, _) in enumerate(top3):\n",
    "        print(f\"Top {i + 1}: Arquitetura {idx} => Acurácia = {acc:.4f} | F1-score =  {f1:.4f} | Modelo = {grid[idx]}\")\n",
    "\n",
    "    return top3"
   ]
  },
  {
   "cell_type": "code",
   "execution_count": 174,
   "metadata": {},
   "outputs": [],
   "source": [
    "# Função que gera os modelos de MLPClassifier com base na arquitetura passada como parâmetro, retornando os valores de acurácia de f1-score\n",
    "\n",
    "def treino_e_avaliacao(X, y, arquitetura):\n",
    "    X_train, X_test, y_train, y_test, X_train_std, X_test_std = holdout_partition(X, y)\n",
    "    \n",
    "    mlp = MLPClassifier(\n",
    "        hidden_layer_sizes = arquitetura[0],\n",
    "        activation = arquitetura[1],\n",
    "        solver = arquitetura[2],\n",
    "        max_iter = arquitetura[3],\n",
    "        verbose = False\n",
    "    )\n",
    "\n",
    "    mlp.fit(X_train_std, y_train)\n",
    "    y_pred = mlp.predict(X_test_std)\n",
    "\n",
    "    acc = accuracy_score(y_test, y_pred)\n",
    "    f1 = f1_score(y_test, y_pred, average = 'weighted', zero_division = 0)\n",
    "    cm = confusion_matrix(y_test, y_pred)\n",
    "\n",
    "    return acc, f1, cm, y_test, y_pred, mlp"
   ]
  },
  {
   "cell_type": "code",
   "execution_count": null,
   "metadata": {},
   "outputs": [],
   "source": [
    "# Diretório onde os modelos serão salvos\n",
    "os.makedirs(\"modelos_melhores_top48\", exist_ok = True)\n",
    "\n",
    "# Resultados detalhados para análise posterior\n",
    "media_geral_arquiteturas = []\n",
    "resultados_detalhados = []\n",
    "\n",
    "\n",
    "for idx, model in enumerate(grid):\n",
    "    print(f\"Executando modelo {idx + 1}/{len(grid)}: {model}\")\n",
    "\n",
    "    resultados = Parallel(n_jobs = -1)(delayed(treino_e_avaliacao)(X, y, model) for _ in range(100))\n",
    "\n",
    "    acuracias = [r[0] for r in resultados]\n",
    "    f1_scores = [r[1] for r in resultados]\n",
    "\n",
    "    # Melhor execução com base em F1 (desempate por acurácia)\n",
    "    melhor_resultado = max(resultados, key = lambda r: (r[1], r[0]))\n",
    "    acc, f1, cm, y_test, y_pred, mlp_model = melhor_resultado\n",
    "\n",
    "    # Salvar o melhor modelo no disco\n",
    "    nome_arquivo = f\"modelos_melhores_top48/modelo_{idx:02d}_acc{acc:.4f}_f1{f1:.4f}.joblib\"\n",
    "    dump(mlp_model, nome_arquivo)\n",
    "\n",
    "    media_acc = np.mean(acuracias)\n",
    "    media_f1 = np.mean(f1_scores)\n",
    "    desvio_acc = np.std(acuracias)\n",
    "    desvio_f1 = np.std(f1_scores)\n",
    "\n",
    "    acc_from_100, f1_from_100, cm, ytest_from_100, ypred_from_100, mlp_from_100 = zip(*resultados)\n",
    "\n",
    "    # Armazenar resultados\n",
    "    media_geral_arquiteturas.append((media_f1, media_acc, idx, desvio_f1, desvio_acc))\n",
    "    resultados_detalhados.append({\n",
    "        'modelo': model,\n",
    "        'acuracia': acc,\n",
    "        'f1_score': f1,\n",
    "        'cm': cm,\n",
    "        'y_test': y_test,\n",
    "        'y_pred': y_pred\n",
    "    })"
   ]
  },
  {
   "cell_type": "code",
   "execution_count": null,
   "metadata": {},
   "outputs": [],
   "source": [
    "# Mostra top-3 com matrizes\n",
    "top3_resultados = get_top3(media_geral_arquiteturas)"
   ]
  },
  {
   "cell_type": "code",
   "execution_count": null,
   "metadata": {},
   "outputs": [],
   "source": [
    "# Exibir matrizes de confusão para as 3 melhores\n",
    "cmaps = ['Blues', 'Greens', 'Reds']\n",
    "\n",
    "#    top3 = sorted(overall_averages, key = lambda av: (av[1], av[0]), reverse = True)[:3]\n",
    "\n",
    "for i, (_, _, idx, _, _) in enumerate(top3_resultados):\n",
    "    melhor = resultados_detalhados[idx]\n",
    "    print(f\"\\nTop {i + 1} - Modelo: {melhor['modelo']}\")\n",
    "    print(f\"Melhor iteração - Acurácia: {melhor['acuracia']:.4f}, F1-Score: {melhor['f1_score']:.4f}\")\n",
    "    disp = ConfusionMatrixDisplay.from_predictions(melhor['y_test'], melhor['y_pred'], cmap = cmaps[i])\n",
    "    disp.ax_.set_title(f'Matriz de Confusão - Top {i + 1}')\n",
    "    plt.show()"
   ]
  },
  {
   "cell_type": "markdown",
   "metadata": {},
   "source": [
    "## Estimando o número de neurônios\n",
    "\n",
    "Um dos problemas de pesquisa com redes neurais artificiais consiste na determinação do número de neurônios em sua arquitetura. Embora não seja possível definir a priori qual rede neural é adequada para um problema, pois isto só é possível mediante uma busca exaustiva, há regras na literatura que sugerem o número de neurônios escondidos, tal como a regra da Pirâmide Geométrica, dada a seguir:\n",
    "\n",
    "$$N_h = \\alpha \\cdot \\sqrt{N_i \\cdot N_o},$$\n",
    "\n",
    "em que $N_h$ é o número de neurônios ocultos (a serem distribuídos em uma ou duas camadas ocultas), $N_i$ é o número de neurônios na camada de entrada e $N_o$ é o número de neurônios na camada de saída. \n",
    "\n",
    "1. Consulte a documentação da classe MLPClassifier (disponível em https://scikit-learn.org/stable/modules/generated/sklearn.neural_network.MLPClassifier.html) e obtenha os valores de $N_i$ e $N_o$.\n",
    "2. Teste os valores de $\\alpha$ como sendo iguais a $0.5$, $2$ e $3$.\n",
    "3. Proponha pelo menos 30 redes neurais segundo a regra da pirâmide geométrica e teste-as nos mesmos termos estabelecidos anterioremente  (solver, épocas, etc.)  \n",
    "    3.1 Apresente as top-3 melhores redes no tocante à F-Score e Acurácia  "
   ]
  },
  {
   "cell_type": "markdown",
   "metadata": {},
   "source": [
    "O valor de $N_i$ deve ser igual a quantidade de características de entrada do treinamento e o $N_0$ deve ser igual a quantidade de classes distintas, tedo em vista que este é um problema de classificação multiclasse. Assim:\n"
   ]
  },
  {
   "cell_type": "code",
   "execution_count": 165,
   "metadata": {},
   "outputs": [],
   "source": [
    "modelos = [\n",
    "    ((10, 10), 'relu', 'adam', 100), \n",
    "    ((16, 4), 'tanh', 'sgd', 100), \n",
    "    ((10, 10), 'identity', 'adam', 150),\n",
    "    ((20,), 'relu', 'adam', 200), \n",
    "    ((16, 4), 'tanh', 'adam', 100), \n",
    "    ((8, 8), 'logistic', 'adam', 150),\n",
    "    ((30,), 'identity', 'adam', 150), \n",
    "    ((20, 20), 'relu', 'sgd', 200), \n",
    "    ((25, 10), 'identity', 'adam', 200),\n",
    "    ((12, 6), 'identity', 'sgd', 150)\n",
    "]"
   ]
  },
  {
   "cell_type": "code",
   "execution_count": 166,
   "metadata": {},
   "outputs": [
    {
     "data": {
      "text/plain": [
       "11"
      ]
     },
     "execution_count": 166,
     "metadata": {},
     "output_type": "execute_result"
    }
   ],
   "source": [
    "n_i = df.shape[1]\n",
    "n_i"
   ]
  },
  {
   "cell_type": "code",
   "execution_count": 167,
   "metadata": {},
   "outputs": [
    {
     "data": {
      "text/plain": [
       "7"
      ]
     },
     "execution_count": 167,
     "metadata": {},
     "output_type": "execute_result"
    }
   ],
   "source": [
    "n_0 = y.nunique()\n",
    "n_0"
   ]
  },
  {
   "cell_type": "code",
   "execution_count": 168,
   "metadata": {},
   "outputs": [],
   "source": [
    "alphas = [0.5, 2, 3]"
   ]
  },
  {
   "cell_type": "code",
   "execution_count": 169,
   "metadata": {},
   "outputs": [],
   "source": [
    "def criar_novas_arqs_com_nh(alphas, models):\n",
    "    novas_arqs = []\n",
    "    \n",
    "    for alpha in alphas:\n",
    "        n_h = int(alpha * np.sqrt(n_i * n_0))  # Cálculo do número de neurônios na camada escondida\n",
    "\n",
    "        for arq in models:\n",
    "            hidden_layer = (n_h,)  # Garantimos que seja tupla\n",
    "            activation = arq[1]\n",
    "            solver = arq[2]\n",
    "            max_iter = arq[3]\n",
    "\n",
    "            nova_arquitetura = (hidden_layer, activation, solver, alpha, max_iter)\n",
    "            novas_arqs.append(nova_arquitetura)\n",
    "    \n",
    "    return novas_arqs"
   ]
  },
  {
   "cell_type": "code",
   "execution_count": 170,
   "metadata": {},
   "outputs": [],
   "source": [
    "def treino_e_avaliacao_completo(X, y, arquitetura):\n",
    "    X_train, X_test, y_train, y_test, X_train_std, X_test_std = holdout_partition(X, y)\n",
    "\n",
    "    mlp = MLPClassifier(\n",
    "        hidden_layer_sizes=arquitetura[0],\n",
    "        activation=arquitetura[1],\n",
    "        solver=arquitetura[2],\n",
    "        alpha=arquitetura[3],  # inclui alpha aqui\n",
    "        max_iter=arquitetura[4],\n",
    "        verbose=False\n",
    "    )\n",
    "    \n",
    "    mlp.fit(X_train_std, y_train)\n",
    "    y_pred = mlp.predict(X_test_std)\n",
    "\n",
    "    acc = accuracy_score(y_test, y_pred)\n",
    "    f1 = f1_score(y_test, y_pred, average = 'weighted', zero_division = 0)\n",
    "    cm = confusion_matrix(y_test, y_pred)\n",
    "\n",
    "    return acc, f1, cm, y_test, y_pred, mlp"
   ]
  },
  {
   "cell_type": "code",
   "execution_count": 171,
   "metadata": {},
   "outputs": [],
   "source": [
    "# Diretório onde os modelos com NH serão salvos\n",
    "os.makedirs(\"modelos_nh\", exist_ok = True)\n",
    "\n",
    "media_geral_nh = []  # (f1, acc, idx, std_f1, std_acc)\n",
    "resultados_detalhados_nh = []  # salva os melhores modelos com y_test, y_pred e matriz\n",
    "\n",
    "novas_arqs = criar_novas_arqs_com_nh(alphas, modelos)"
   ]
  },
  {
   "cell_type": "code",
   "execution_count": null,
   "metadata": {},
   "outputs": [],
   "source": [
    "for j in range(len(novas_arqs)):  \n",
    "    print(f\"\\nExecutando arquitetura {j + 1}/{len(novas_arqs)}...\")\n",
    "\n",
    "    # Paralelização das 100 iterações\n",
    "    resultados = Parallel(n_jobs = -1)(\n",
    "        delayed(treino_e_avaliacao_completo)(X, y, novas_arqs[j]) for _ in range(100)\n",
    "    )\n",
    "\n",
    "    # Desempacotar os resultados\n",
    "    acuracias = [r[0] for r in resultados]\n",
    "    f1_scores = [r[1] for r in resultados]\n",
    "\n",
    "    # Encontrar o melhor resultado (maior F1, desempate por acurácia)\n",
    "    melhor_resultado = max(resultados, key=lambda r: (r[1], r[0]))\n",
    "\n",
    "    media_acc = np.mean(acuracias)\n",
    "    media_f1 = np.mean(f1_scores)\n",
    "    std_acc = np.std(acuracias)\n",
    "    std_f1 = np.std(f1_scores)\n",
    "\n",
    "    # Armazena a média geral da arquitetura\n",
    "    media_geral_nh.append((media_f1, media_acc, j, std_f1, std_acc))\n",
    "\n",
    "    # Armazena o melhor caso completo para exibição posterior\n",
    "    resultados_detalhados_nh.append({\n",
    "        'arquitetura': novas_arqs[j],\n",
    "        'acuracia': melhor_resultado[0],\n",
    "        'f1_score': melhor_resultado[1],\n",
    "        'cm': melhor_resultado[2],\n",
    "        'y_test': melhor_resultado[3],\n",
    "        'y_pred': melhor_resultado[4]\n",
    "    })\n",
    "\n",
    "    # Salvar o melhor modelo\n",
    "    nome_arquivo = f\"modelos_nh/melhor_modelo_nh_{j:02d}.joblib\"\n",
    "    dump(melhor_resultado[5], nome_arquivo)"
   ]
  },
  {
   "cell_type": "code",
   "execution_count": null,
   "metadata": {},
   "outputs": [],
   "source": [
    "top3_nh = get_top3(media_geral_nh)"
   ]
  },
  {
   "cell_type": "code",
   "execution_count": null,
   "metadata": {},
   "outputs": [],
   "source": [
    "cmaps = ['Blues', 'Greens', 'Reds']\n",
    "\n",
    "for i, (_, _, idx, _, _) in enumerate(top3_nh):\n",
    "    melhor = resultados_detalhados_nh[idx]\n",
    "    print(f\"\\nTop {i + 1} - Modelo: {melhor['arquitetura']}\")\n",
    "    print(f\"Melhor iteração - Acurácia: {melhor['acuracia']:.4f}, F1-Score: {melhor['f1_score']:.4f}\")\n",
    "    disp = ConfusionMatrixDisplay.from_predictions(melhor['y_test'], melhor['y_pred'], cmap = cmaps[i])\n",
    "    disp.ax_.set_title(f'Matriz de Confusão - Top {i}')\n",
    "    plt.show()"
   ]
  },
  {
   "cell_type": "markdown",
   "metadata": {},
   "source": [
    "## Testando as Redes Neurais com Atributos Categóricos\n",
    "\n",
    "1. Considere as 6 redes neurais obtidas nos dois top-3 anteriores (arquiteturas próprias e regra da pirâmide geométrica)\n",
    "2. Com todos os atributos preditores da base de dados original, incluindo os categóricos, treine e teste estas mesmas redes por 100 repetições  \n",
    "    2.1 Considere o melhor otimizador para cada uma delas  \n",
    "    2.2 Faça uso de 200 épocas para treinamento  \n",
    "    2.2 Apresente os resultados de acurácia e F-Score em termos da média +- dp para cada arquitetura\n",
    "3. Apresente o gráfico boxplot para o F-Score das 6 arquiteturas perante as 100 repetições"
   ]
  },
  {
   "cell_type": "code",
   "execution_count": 111,
   "metadata": {},
   "outputs": [],
   "source": [
    "top6 = top3_resultados + top3_nh"
   ]
  },
  {
   "cell_type": "code",
   "execution_count": 103,
   "metadata": {},
   "outputs": [],
   "source": [
    "# Obter os dados sem os valores excluidos anteriormente\n",
    "new_df = pd.read_csv('covtype.csv')\n",
    "new_X, new_y = new_df.drop(columns = 'Cover_Type'), df['Cover_Type']"
   ]
  },
  {
   "cell_type": "code",
   "execution_count": 113,
   "metadata": {},
   "outputs": [],
   "source": [
    "# Diretório para salvar os melhores modelos por arquitetura\n",
    "os.makedirs(\"modelos_top6\", exist_ok = True)"
   ]
  },
  {
   "cell_type": "code",
   "execution_count": null,
   "metadata": {},
   "outputs": [],
   "source": [
    "# Nova funcao de teste com a variável max_iter predefinida para todos como 200\n",
    "\n",
    "def training_geometric_pyamid(X, y, model):\n",
    "    X = np.nan_to_num(X, nan = 0.0, posinf=np.finfo(np.float64).max, neginf=np.finfo(np.float64).min)\n",
    "    X_train, X_test, y_train, y_test, X_train_std, X_test_std = holdout_partition(X, y)\n",
    "    \n",
    "    mlp = MLPClassifier(\n",
    "        hidden_layer_sizes = model[0],\n",
    "        activation = model[1],\n",
    "        solver = model[2],\n",
    "        max_iter = 200,\n",
    "        verbose = False\n",
    "    )\n",
    "\n",
    "    mlp.fit(X_train_std, y_train)\n",
    "    y_pred = mlp.predict(X_test_std)\n",
    "\n",
    "    acc = accuracy_score(y_test, y_pred)\n",
    "    f1 = f1_score(y_test, y_pred, average='weighted', zero_division=0)\n",
    "\n",
    "    return acc, f1, mlp"
   ]
  },
  {
   "cell_type": "code",
   "execution_count": null,
   "metadata": {},
   "outputs": [],
   "source": [
    "# === Execução das 100 repetições para as top 6 arquiteturas ===\n",
    "resultados_top6 = []           # Guarda média e dp de acc/f1\n",
    "f1_scores_por_arq = []         # Lista de listas para boxplot\n",
    "melhores_modelos_info = []     # Guarda info dos melhores modelos\n",
    "\n",
    "for i in range(6):\n",
    "    if i < 3:\n",
    "        print(f\"\\nExecutando arquitetura {i + 1}/6: {resultados_detalhados[idx]['modelo']}\")\n",
    "        resultados = Parallel(n_jobs=-1)(\n",
    "            delayed(training_geometric_pyamid)(new_X, new_y, resultados_detalhados[idx]['modelo']) for _ in range(100)\n",
    "        )\n",
    "    else:\n",
    "        print(f\"\\nExecutando arquitetura {i + 1}/6: {resultados_detalhados_nh[idx]['arquitetura']}\")\n",
    "        resultados = Parallel(n_jobs=-1)(\n",
    "            delayed(training_geometric_pyamid)(new_X, new_y, resultados_detalhados_nh[idx]['arquitetura']) for _ in range(100)\n",
    "        )\n",
    "\n",
    "    acuracias = [r[0] for r in resultados]\n",
    "    f1scores = [r[1] for r in resultados]\n",
    "\n",
    "    melhor_resultado = max(resultados, key=lambda r: (r[1], r[0]))  # (acc, f1, modelo)\n",
    "    acc_melhor, f1_melhor, melhor_modelo = melhor_resultado\n",
    "\n",
    "    acc_melhor = melhor_resultado[0]\n",
    "    f1_melhor = melhor_resultado[1]\n",
    "\n",
    "    # Salva o melhor modelo da arquitetura\n",
    "    nome_arquivo = f\"modelos_top6/modelo_top{i+1}_acc{acc_melhor:.4f}_f1{f1_melhor:.4f}.joblib\"\n",
    "    joblib.dump(melhor_modelo, nome_arquivo)\n",
    "\n",
    "    # Armazena resultados agregados\n",
    "    resultados_top6.append((\n",
    "        np.mean(acuracias), np.std(acuracias),\n",
    "        np.mean(f1scores), np.std(f1scores)\n",
    "    ))\n",
    "    f1_scores_por_arq.append(f1scores)\n",
    "\n",
    "    print(f\"Arquitetura {i+1}: Acurácia = {np.mean(acuracias):.4f} ± {np.std(acuracias):.4f}, \"\n",
    "          f\"F1-Score = {np.mean(f1scores):.4f} ± {np.std(f1scores):.4f}\")"
   ]
  },
  {
   "cell_type": "code",
   "execution_count": null,
   "metadata": {},
   "outputs": [],
   "source": [
    "# === 3. Boxplot do F1-Score ===\n",
    "\n",
    "df_f1 = pd.DataFrame({\n",
    "    f'Arquitetura {i + 1}': f1_scores_por_arq[i] for i in range(6)\n",
    "})\n",
    "df_f1_melted = df_f1.melt(var_name = 'Arquitetura', value_name = 'F1-Score')"
   ]
  },
  {
   "cell_type": "code",
   "execution_count": null,
   "metadata": {},
   "outputs": [],
   "source": [
    "# Plot\n",
    "plt.figure(figsize = (10, 6))\n",
    "sns.boxplot(data = df_f1_melted, x = 'Arquitetura', y = 'F1-Score')\n",
    "plt.title(\"Distribuição do F1-Score (100 execuções por arquitetura)\")\n",
    "plt.xticks(rotation = 45)\n",
    "plt.grid(True)\n",
    "plt.tight_layout()\n",
    "plt.show()"
   ]
  },
  {
   "cell_type": "markdown",
   "metadata": {},
   "source": [
    "## Considerações Parciais\n",
    "\n",
    "1. É possível identificar uma rede com desempenho superior às demais?\n",
    "2. Qual estratégia mostrou-se mais producente para a obtenção de boas arquiteturas (Estratégia Própria ou Pirâmide Geométrica)? Por quê?\n",
    "3. Considerar os atributos categóricos trouxe melhorias? Justifique.\n",
    "4. Um número maior de épocas trouxe melhorias?\n",
    "5. Qual a maior dificuldade de resolução do problema proposto perante as RNAs?"
   ]
  },
  {
   "cell_type": "code",
   "execution_count": null,
   "metadata": {},
   "outputs": [],
   "source": []
  }
 ],
 "metadata": {
  "kernelspec": {
   "display_name": "Python 3",
   "language": "python",
   "name": "python3"
  },
  "language_info": {
   "codemirror_mode": {
    "name": "ipython",
    "version": 3
   },
   "file_extension": ".py",
   "mimetype": "text/x-python",
   "name": "python",
   "nbconvert_exporter": "python",
   "pygments_lexer": "ipython3",
   "version": "3.10.11"
  }
 },
 "nbformat": 4,
 "nbformat_minor": 4
}
