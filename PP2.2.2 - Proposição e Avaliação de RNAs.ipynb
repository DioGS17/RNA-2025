{
 "cells": [
  {
   "cell_type": "markdown",
   "metadata": {},
   "source": [
    "## Redes Neurais Artificiais 2025.1\n",
    "\n",
    "- **Disciplina**: Redes Neurais Artificiais 2025.1  \n",
    "- **Professora**: Elloá B. Guedes (ebgcosta@uea.edu.br)  \n",
    "- **Github**: http://github.com/elloa  \n",
    "        \n",
    "\n",
    "Levando em conta a base de dados **_Forest Cover Type_**, esta segunda parte do Projeto Prático 2.2 diz respeito à proposição e avaliação de múltiplas redes neurais artificiais do tipo feedforward multilayer perceptron para o problema da classificação multi-classe da cobertura florestal em uma área do Roosevelt National Forest.\n",
    "\n",
    "## Testando Redes Neurais sem os Atributos Categórios\n",
    "\n",
    "1. Abra a base de dados em questão\n",
    "2. Elimine todas as colunas relativas aos atributos categóricos\n",
    "3. Armazene o atributo alvo em uma variável y e os atributos preditores em uma variável X\n",
    "4. Efetue uma partição holdout 70/30 com o sklearn, distribuindo os exemplos de maneira aleatória\n",
    "5. Efetue o escalonamento dos atributos\n",
    "\n",
    "### Escalonando os atributos\n",
    "\n",
    "O treinamento de uma rede neural artificial é mais eficiente quando os valores que lhes são fornecidos como entrada são pequenos, pois isto favorece a convergência. Isto é feito escalonando-se todos os atributos para o intervalo [0,1], mas precisa ser feito de maneira cautelosa, para que informações do conjunto de teste não sejam fornecidas no treinamento.\n",
    "\n",
    "Há duas estratégias para tal escalonamento: normalização e padronização. Ambas possuem características particulares, vantagens e limitações, como é possível ver aqui: https://www.analyticsvidhya.com/blog/2020/04/feature-scaling-machine-learning-normalization-standardization/\n",
    "\n",
    "\n",
    "No nosso caso, vamos usar a padronização. Assim, com os atributos preditores do treinamento, isto é, X_train, deve-se subtrair a média e dividir pelo desvio padrão:\n",
    "\n",
    "X_train_std = (X_train - np.mean(X_train))/np.std(X_train)\n",
    "\n",
    "Em seguida, o mesmo deve ser feito com os atributos preditores do conjunto de testes, mas com padronização relativa ao conjunto de treinamento:\n",
    "\n",
    "X_test_std = (X_test - np.mean(X_train))/np.std(X_train)\n",
    "\n",
    "Se todo o conjunto X for utilizado na padronização, a rede neural receberá informações do conjunto de teste por meio da média e variância utilizada para preparar os dados de treinamento, o que não é desejável."
   ]
  },
  {
   "cell_type": "code",
   "execution_count": null,
   "metadata": {},
   "outputs": [],
   "source": [
    "## Reservado para a importação de bibliotecas\n",
    "import pandas as pd\n",
    "import numpy as np\n",
    "import matplotlib.pyplot as plt\n",
    "import seaborn as sns\n",
    "from sklearn.model_selection import train_test_split\n",
    "from sklearn.neural_network import MLPClassifier, MLPRegressor\n",
    "from sklearn.metrics import accuracy_score, f1_score, precision_score, recall_score, ConfusionMatrixDisplay\n",
    "import joblib\n",
    "from joblib import Parallel, delayed"
   ]
  },
  {
   "cell_type": "code",
   "execution_count": null,
   "metadata": {},
   "outputs": [],
   "source": [
    "# 1 - Abrindo a base de dados\n",
    "\n",
    "df = pd.read_csv('covtype.csv')\n",
    "df.head(10)"
   ]
  },
  {
   "cell_type": "code",
   "execution_count": null,
   "metadata": {},
   "outputs": [],
   "source": [
    "# 2 - Removendo as colunas relacionadas aos atributos categóricos\n",
    "\n",
    "atributos_categoricos = ['Wilderness_Area1', 'Wilderness_Area2', 'Wilderness_Area3', 'Wilderness_Area4',\n",
    "                        'Soil_Type1', 'Soil_Type2', 'Soil_Type3', 'Soil_Type4', \n",
    "                        'Soil_Type5', 'Soil_Type6', 'Soil_Type7', 'Soil_Type8', \n",
    "                        'Soil_Type9', 'Soil_Type10', 'Soil_Type11', 'Soil_Type12', \n",
    "                        'Soil_Type13', 'Soil_Type14', 'Soil_Type15', 'Soil_Type16', \n",
    "                        'Soil_Type17', 'Soil_Type18', 'Soil_Type19', 'Soil_Type20', \n",
    "                        'Soil_Type21', 'Soil_Type22', 'Soil_Type23', 'Soil_Type24', \n",
    "                        'Soil_Type25', 'Soil_Type26', 'Soil_Type27', 'Soil_Type28', \n",
    "                        'Soil_Type29', 'Soil_Type30', 'Soil_Type31', 'Soil_Type32', \n",
    "                        'Soil_Type33', 'Soil_Type34', 'Soil_Type35', 'Soil_Type36', \n",
    "                        'Soil_Type37', 'Soil_Type38', 'Soil_Type39', 'Soil_Type40']\n",
    "\n",
    "df.drop(columns = atributos_categoricos, inplace = True)"
   ]
  },
  {
   "cell_type": "code",
   "execution_count": null,
   "metadata": {},
   "outputs": [],
   "source": [
    "df.columns"
   ]
  },
  {
   "cell_type": "code",
   "execution_count": null,
   "metadata": {},
   "outputs": [],
   "source": [
    "# 3 - Armazenando o atributo alvo em uma variável y \n",
    "# e os atributos preditores em uma variável X\n",
    "\n",
    "X, y = df.drop(columns = 'Cover_Type'), df['Cover_Type']\n",
    "X"
   ]
  },
  {
   "cell_type": "code",
   "execution_count": null,
   "metadata": {},
   "outputs": [],
   "source": [
    "# 4 e 5 - Criação de uma função para efetuar uma partição holdout 70/30\n",
    "# e realizar a Padronização dos conjuntos de treino e teste:\n",
    "\n",
    "def holdout_partition (X, y):\n",
    "\n",
    "    X_train, X_test, y_train, y_test = train_test_split(X, y, test_size = 0.30)\n",
    "\n",
    "    X_train_std = (X_train - np.mean(X_train))/np.std(X_train)\n",
    "\n",
    "    X_test_std = (X_test - np.mean(X_train))/np.std(X_train)\n",
    "\n",
    "    return X_train, X_test, y_train, y_test, X_train_std, X_test_std"
   ]
  },
  {
   "cell_type": "code",
   "execution_count": null,
   "metadata": {},
   "outputs": [],
   "source": [
    "X_train, X_test, y_train, y_test, X_train_std, X_test_std = holdout_partition(X, y)"
   ]
  },
  {
   "cell_type": "markdown",
   "metadata": {},
   "source": [
    "### Continuando\n",
    "\n",
    "5. Treine uma rede neural multilayer perceptron para este problema com uma única camada e dez neurônios  \n",
    "    5.1 Utilize a função de ativação ReLU  \n",
    "    5.2 Utilize o solver Adam    \n",
    "    5.3 Imprima o passo a passo do treinamento    \n",
    "    5.4 Utilize o número máximo de épocas igual a 300  \n",
    "6. Com o modelo em questão, após o treinamento, apresente:  \n",
    "    6.1 Matriz de confusão para o conjunto de teste  \n",
    "    6.2 Acurácia  \n",
    "    6.3 F-Score  \n",
    "    6.4 Precisão  \n",
    "    6.5 Revocação  \n",
    "7. Repita o treinamento da mesma rede anterior sem imprimir o passo a passo (verbose False) por 100 vezes  \n",
    "    7.1 Cada uma destas repetições deve ser feita com uma nova partição Holdout  \n",
    "    7.2 Apresente a média e o desvio padrão da acurácia e do F-Score para o conjunto de treino  \n",
    "8. Repita por 100 vezes o treinamento desta mesma rede, mas utilizando o otimizador SGD  \n",
    "    8.1 Apresente a média e o desvio padrão da acurácia e do F-Score para o conjunto de treino  \n",
    "9. Houve influência da escolha do otimizador no desempenho da rede?"
   ]
  },
  {
   "cell_type": "code",
   "execution_count": null,
   "metadata": {},
   "outputs": [],
   "source": [
    "# 5 - Criação da rede neural MultiLayer Perceptron (MLP):\n",
    "\n",
    "mlp = MLPClassifier(\n",
    "    hidden_layer_sizes = (10,),     # 1 camada com 10 neurônios\n",
    "    activation = 'relu',            # função de ativação ReLU\n",
    "    solver = 'adam',                # solver Adam\n",
    "    max_iter = 300,                 # 300 épocas\n",
    "    verbose = True,                 # passo a passo do treinamento\n",
    ")"
   ]
  },
  {
   "cell_type": "code",
   "execution_count": null,
   "metadata": {},
   "outputs": [],
   "source": [
    "# Treinamento da rede neural MLP:\n",
    "\n",
    "mlp.fit(X_train_std, y_train)\n",
    "\n",
    "y_pred = mlp.predict(X_test_std)"
   ]
  },
  {
   "cell_type": "code",
   "execution_count": null,
   "metadata": {},
   "outputs": [],
   "source": [
    "# 6 - Matriz de Confusão\n",
    "\n",
    "fig, ax = plt.subplots(figsize = (8, 6))\n",
    "\n",
    "disp = ConfusionMatrixDisplay.from_predictions(y_test, y_pred, ax = ax, cmap = 'Greens')\n",
    "\n",
    "ax.set_xlabel(\"Rótulos Preditos\", fontsize = 10)\n",
    "ax.set_ylabel(\"Rótulos Reais\", fontsize = 10)\n",
    "\n",
    "ax.tick_params(axis = 'both', labelsize = 8)\n",
    "\n",
    "plt.show()"
   ]
  },
  {
   "cell_type": "code",
   "execution_count": null,
   "metadata": {},
   "outputs": [],
   "source": [
    "# 6 - Acurácia, Precisão, Recall e F1-Score\n",
    "\n",
    "metrics_data = {\n",
    "    'Acurácia': [accuracy_score(y_test, y_pred)],\n",
    "    'Precisão': [precision_score(y_test, y_pred, average = 'weighted', zero_division = 0)],\n",
    "    'Recall': [recall_score(y_test, y_pred, average = 'weighted', zero_division = 0)],\n",
    "    'F1-Score': [f1_score(y_test, y_pred, average = 'weighted', zero_division = 0)]\n",
    "}\n",
    "\n",
    "# Criar DataFrame e exibir em porcentagem\n",
    "df_metricas = pd.DataFrame(metrics_data, index = ['MLP 1']).T * 100\n",
    "\n",
    "# Formatar os valores para 2 casas decimais e adicionar '%'\n",
    "df_metricas = df_metricas.applymap(lambda x: f\"{x:.2f}%\")\n",
    "\n",
    "print(df_metricas)"
   ]
  },
  {
   "cell_type": "code",
   "execution_count": null,
   "metadata": {},
   "outputs": [],
   "source": [
    "# 7 - Repetindo o treinamento da rede neural MLP anterior 100 vezes, com verbose = False :\n",
    "\n",
    "accuracies = []\n",
    "f1_scores = []\n",
    "\n",
    "for i in range(100):\n",
    "    X_train, X_test, y_train, y_test, X_train_std, y_test_std = holdout_partition(X, y)\n",
    "    \n",
    "    mlp = MLPClassifier(\n",
    "    hidden_layer_sizes = (10,),     # 1 camada com 10 neurônios\n",
    "    activation = 'relu',            # função de ativação ReLU\n",
    "    solver = 'adam',                # solver Adam\n",
    "    max_iter = 300,                 # 300 épocas\n",
    "    verbose = False,                # sem passo a passo do treinamento\n",
    "    )\n",
    "\n",
    "    mlp.fit(X_train_std, y_train)\n",
    "    y_pred = mlp.predict(X_train_std)\n",
    "    \n",
    "    accuracies.append(accuracy_score(y_train, y_pred))\n",
    "    f1_scores.append(f1_score(y_train, y_pred, average = 'weighted', zero_division = 0))"
   ]
  },
  {
   "cell_type": "code",
   "execution_count": null,
   "metadata": {},
   "outputs": [],
   "source": [
    "print(\"\\nAdam (Treino)\")\n",
    "print(f\"Acurácia - Média: {np.mean(accuracies):.4f}, Desvio Padrão: {np.std(accuracies):.4f}\")\n",
    "print(f\"F1-Score - Média: {np.mean(f1_scores):.4f}, Desvio Padrão: {np.std(f1_scores):.4f}\")"
   ]
  },
  {
   "cell_type": "code",
   "execution_count": null,
   "metadata": {},
   "outputs": [],
   "source": [
    "# 8 - Repetindo o treinamento com solver = \"sgd\":\n",
    "\n",
    "accuracies_sgd = []\n",
    "f1_scores_sgd = []\n",
    "\n",
    "for i in range(100):\n",
    "    X_train, X_test, y_train, y_test, X_train_std, y_test_std = holdout_partition(X, y)\n",
    "    \n",
    "    mlp = MLPClassifier(\n",
    "        hidden_layer_sizes = (10,),     # 1 camada com 10 neurônios\n",
    "        activation = 'relu',            # função de ativação ReLU\n",
    "        solver = 'sgd',                # solver Adam\n",
    "        max_iter = 300,                 # 300 épocas\n",
    "        verbose = False,                # sem passo a passo do treinamento\n",
    "    )\n",
    "    \n",
    "    mlp.fit(X_train_std, y_train)\n",
    "    y_pred = mlp.predict(X_train_std)\n",
    "\n",
    "    accuracies_sgd.append(accuracy_score(y_train, y_pred))\n",
    "    f1_scores_sgd.append(f1_score(y_train, y_pred, average = 'weighted', zero_division = 0))"
   ]
  },
  {
   "cell_type": "code",
   "execution_count": null,
   "metadata": {},
   "outputs": [],
   "source": [
    "print(\"\\nSGD (Treino)\")\n",
    "print(f\"Acurácia - Média: {np.mean(accuracies_sgd):.4f}, Desvio Padrão: {np.std(accuracies_sgd):.4f}\")\n",
    "print(f\"F1-Score - Média: {np.mean(f1_scores_sgd):.4f}, Desvio Padrão: {np.std(f1_scores_sgd):.4f}\")"
   ]
  },
  {
   "cell_type": "code",
   "execution_count": null,
   "metadata": {},
   "outputs": [],
   "source": [
    "if np.mean(accuracies) > np.mean(accuracies_sgd):\n",
    "    print(\"\\nAdam obteve melhor desempenho médio que SGD.\")\n",
    "else:\n",
    "    print(\"\\nSGD obteve melhor desempenho médio que Adam.\")\n",
    "\n",
    "# Diferença clara?\n",
    "print(f\"Diferença média de acurácia: {np.mean(accuracies) - np.mean(accuracies_sgd):.4f}\")\n",
    "print(f\"Diferença média de F1-score: {np.mean(f1_scores) - np.mean(f1_scores_sgd):.4f}\")"
   ]
  },
  {
   "cell_type": "code",
   "execution_count": null,
   "metadata": {},
   "outputs": [],
   "source": [
    "print(\"Maior valor:\", np.max(X))"
   ]
  },
  {
   "cell_type": "markdown",
   "metadata": {},
   "source": [
    "## Discussão\n",
    "\n",
    "Nos passos anteriores, você avaliou o desempenho de uma única rede neural que contém os seguintes parâmetros: uma única camada oculta com 10 neurônios e função de ativação ReLU. O otimizador utilizado, quer seja SGD ou ADAM, trata-se do algoritmo para aproximar o gradiente do erro. Neste sentido, a escolha do otimizador é um hiperparâmetro, pois diz respeito a como a rede neural definida previamente atuará \"em tempo de execução\"  durante o processo de treinamento. Também são hiperparâmetros a quantidade de épocas, a taxa de aprendizado inicial, dentre outros.\n",
    "\n",
    "Cabe alientar também que você efetuou o treinamento desta rede por 100 vezes e apresentou os resultados em termos de média +- desvio padrão. Lembre-se que em uma rede neural há a inicialização aleatória de pesos e, em consequência, o desempenho delas está sujeito à uma flutuação estocástica. A execução destas múltiplas vezes faz com que eliminemos algum viés introduzido por uma boa ou má \"sorte\" na escolha de pesos no caso de uma única execução.\n",
    "\n",
    "Você também aprendeu uma estratégia para escalonar os atributos para uma melhor convergência da rede. Utilize-a em todos os treinamentos e testes propostos a seguir.\n",
    "\n",
    "## Propondo Novas Arquiteturas\n",
    "\n",
    "Variando  os parâmetros (uma ou duas camadas ocultas, com diferente números de neurônios em cada uma delas e a função de ativação) e o hiperparâmetros solver (Adam ou SGD) e o número de épocas (100,150 e 200), atenda ao que se pede:\n",
    "\n",
    "1. Proponha 10 arquiteturas distintas de RNAs para o problema em questão, à sua escolha\n",
    "2. Avalie cada uma das arquiteturas perante todos os hiperparâmetros apresentados por 100 vezes\n",
    "3. Como resultado da avaliação, apresente:  \n",
    "    3.1 Top-3 melhores redes no tocante à F-Score e Acurácia  \n",
    "    3.2 Repetição em que houve o melhor desempenho de cada uma dessas redes: ilustre tp, tf, fp e fn  "
   ]
  },
  {
   "cell_type": "code",
   "execution_count": null,
   "metadata": {},
   "outputs": [],
   "source": [
    "# Arquiteturas propostas\n",
    "\n",
    "arquiteturas = [((10,10), 'relu', 'adam', 100), ((23,27), 'tanh', 'sgd', 150), ((30,20), 'identity', 'adam', 200),\n",
    "    ((40,), 'relu', 'adam', 100), ((33,), 'tanh', 'adam', 150), ((20,10), 'logistic', 'adam', 200),\n",
    "    ((18,18), 'identity', 'adam', 100), ((35,10), 'relu', 'sgd', 150), ((10,10), 'identity', 'adam', 100),\n",
    "    ((50,), 'identity', 'sgd', 100)\n",
    "]\n"
   ]
  },
  {
   "cell_type": "code",
   "execution_count": null,
   "metadata": {},
   "outputs": [],
   "source": [
    "# Função que retorna as 3 melhores arquiteturas com base no valor de acurácia e desempatando pelo valor de f1-score\n",
    "\n",
    "def gerar_top3(media_geral_arquiteturas):\n",
    "    top3_acurracy = sorted(media_geral_arquiteturas, key= lambda res: (res[1], res[0]), reverse= True)\n",
    "\n",
    "    print(\"\\n\\n\\nTop 3 resultados com maior acurácia:\")\n",
    "    for i in range(3):\n",
    "        print(f\"Top {i}: Arquitetura: {top3_acurracy[i][2]} Acurácia = {top3_acurracy[i][1]:.4f}, F1-Score = {top3_acurracy[i][0]:.4f} \\n\\n\")\n",
    "    return top3_acurracy[:3]\n",
    "\n"
   ]
  },
  {
   "cell_type": "code",
   "execution_count": null,
   "metadata": {},
   "outputs": [],
   "source": [
    "# Função que gera os modelos de MLPClassifier com base na arquitetura passada como parâmetro, retornando os valores de acurácia de f1-score\n",
    "\n",
    "def treino_e_avaliacao(X, y, arquitetura):\n",
    "    X_train, X_test, y_train, y_test, X_train_std, X_test_std = holdout_partition(X, y)\n",
    "    \n",
    "    mlp = MLPClassifier(\n",
    "        hidden_layer_sizes = arquitetura[0],\n",
    "        activation = arquitetura[1],\n",
    "        solver = arquitetura[2],\n",
    "        max_iter = arquitetura[3],\n",
    "        verbose = False\n",
    "    )\n",
    "\n",
    "    mlp.fit(X_train_std, y_train)\n",
    "    y_pred = mlp.predict(X_test_std)\n",
    "\n",
    "    acc = accuracy_score(y_test, y_pred)\n",
    "    f1 = f1_score(y_test, y_pred, average='weighted', zero_division=0)\n",
    "\n",
    "    return acc, f1"
   ]
  },
  {
   "cell_type": "code",
   "execution_count": null,
   "metadata": {},
   "outputs": [],
   "source": [
    "\n",
    "media_geral_arquiteturas = []  # Lista da media de acuracia, f1-score e indice de cada uma das arquiteturas\n",
    "\n",
    "for j in range(len(arquiteturas)): \n",
    "    \n",
    "    #print(\"Iteracao\", j)\n",
    "    \n",
    "    # Paralelização das 100 iterações para cada uma das arquiteturas\n",
    "    resultados = Parallel(n_jobs=-1)( #resultados vai ser uma lista de 100 valores de acuracia e f1\n",
    "        delayed(treino_e_avaliacao)(X, y, arquiteturas[j]) for _ in range(100)\n",
    "    )\n",
    "\n",
    "\n",
    "    \n",
    "    acuracias_arquitetura_i, f1scores_arquitetura_i  = zip(*resultados)\n",
    "\n",
    "    resultados_arquitetura_i = (np.mean(f1scores_arquitetura_i), np.mean(acuracias_arquitetura_i), j) # Armazena a media das acuracias, f1scores e o indice da arquitetura\n",
    "    media_geral_arquiteturas.append(resultados_arquitetura_i) # Armazena a média das métricas de cada arquitetura"
   ]
  },
  {
   "cell_type": "code",
   "execution_count": null,
   "metadata": {},
   "outputs": [],
   "source": [
    "gerar_top3(media_geral_arquiteturas)"
   ]
  },
  {
   "cell_type": "code",
   "execution_count": null,
   "metadata": {},
   "outputs": [],
   "source": [
    "# melhor_desempenho = sorted(media_geral_arquiteturas, key= lambda res: (res[1], res[0]), reverse= True)[0]\n",
    "# print(melhor_desempenho)\n",
    "# fig, ax = plt.subplots(figsize = (8, 6))\n",
    "\n",
    "# disp = ConfusionMatrixDisplay.from_predictions(y_test, y_pred, ax = ax, cmap = 'Greens')\n",
    "\n",
    "# ax.set_xlabel(\"Rótulos Preditos\", fontsize = 10)\n",
    "# ax.set_ylabel(\"Rótulos Reais\", fontsize = 10)\n",
    "\n",
    "# ax.tick_params(axis = 'both', labelsize = 8)\n",
    "\n",
    "# plt.show()\n"
   ]
  },
  {
   "cell_type": "markdown",
   "metadata": {},
   "source": [
    "## Estimando o número de neurônios\n",
    "\n",
    "Um dos problemas de pesquisa com redes neurais artificiais consiste na determinação do número de neurônios em sua arquitetura. Embora não seja possível definir a priori qual rede neural é adequada para um problema, pois isto só é possível mediante uma busca exaustiva, há regras na literatura que sugerem o número de neurônios escondidos, tal como a regra da Pirâmide Geométrica, dada a seguir:\n",
    "\n",
    "$$N_h = \\alpha \\cdot \\sqrt{N_i \\cdot N_o},$$\n",
    "\n",
    "em que $N_h$ é o número de neurônios ocultos (a serem distribuídos em uma ou duas camadas ocultas), $N_i$ é o número de neurônios na camada de entrada e $N_o$ é o número de neurônios na camada de saída. \n",
    "\n",
    "1. Consulte a documentação da classe MLPClassifier (disponível em https://scikit-learn.org/stable/modules/generated/sklearn.neural_network.MLPClassifier.html) e obtenha os valores de $N_i$ e $N_o$.\n",
    "2. Teste os valores de $\\alpha$ como sendo iguais a $0.5$, $2$ e $3$.\n",
    "3. Proponha pelo menos 30 redes neurais segundo a regra da pirâmide geométrica e teste-as nos mesmos termos estabelecidos anterioremente  (solver, épocas, etc.)  \n",
    "    3.1 Apresente as top-3 melhores redes no tocante à F-Score e Acurácia  "
   ]
  },
  {
   "cell_type": "markdown",
   "metadata": {},
   "source": [
    "O valor de $N_i$ deve ser igual a quantidade de características de entrada do treinamento e o $N_0$ deve ser igual a quantidade de classes distintas, tedo em vista que este é um problema de classificação multiclasse. Assim:\n"
   ]
  },
  {
   "cell_type": "code",
   "execution_count": null,
   "metadata": {},
   "outputs": [],
   "source": [
    "n_i = df.shape[1]\n",
    "n_i"
   ]
  },
  {
   "cell_type": "code",
   "execution_count": null,
   "metadata": {},
   "outputs": [],
   "source": [
    "n_0 = y.nunique()\n",
    "n_0"
   ]
  },
  {
   "cell_type": "code",
   "execution_count": null,
   "metadata": {},
   "outputs": [],
   "source": [
    "alphas = [0.5, 2, 3]"
   ]
  },
  {
   "cell_type": "code",
   "execution_count": null,
   "metadata": {},
   "outputs": [],
   "source": [
    "# Função que atribui o valor de N_h como a nova descrição das camadas escondidas\n",
    "\n",
    "def atualizar_camadas(nh, arquiteturas):\n",
    "    novas_arqs = []\n",
    "    for arq in arquiteturas:\n",
    "        arq_list = list(arq)\n",
    "        arq_list[0] = nh\n",
    "        novas_arqs.append(tuple(arq_list))\n",
    "    return novas_arqs"
   ]
  },
  {
   "cell_type": "code",
   "execution_count": null,
   "metadata": {},
   "outputs": [],
   "source": [
    "# Função que cria uma nova lista de arquiteturas usando, agora, os valores de N_h como quantidade de neurônios na camada escondida\n",
    "\n",
    "def criar_novas_arqs_com_nh(alphas, arquiteturas):\n",
    "\n",
    "    novas_arqs=[]\n",
    "    \n",
    "    for alpha in alphas:\n",
    "        \n",
    "        n_h = int(alpha * np.sqrt(n_i * n_0)) # Calcula o valor de N_h\n",
    "\n",
    "        for arq in arquiteturas:\n",
    "            arq_list = list(arq)\n",
    "            arq_list[0] = n_h\n",
    "            novas_arqs.append(tuple(arq_list))\n",
    "    return novas_arqs\n"
   ]
  },
  {
   "cell_type": "code",
   "execution_count": null,
   "metadata": {},
   "outputs": [],
   "source": [
    "media_geral_nh=[] # Lista da media de acuracia, f1-score e indice de cada uma das arquiteturas\n",
    "\n",
    "\n",
    "novas_arqs = criar_novas_arqs_com_nh(alphas, arquiteturas)\n",
    " \n",
    "for j in range(len(novas_arqs)):  \n",
    "    \n",
    "\n",
    "    # Paralelização das 100 iterações para cada uma das arquiteturas\n",
    "    resultados = Parallel(n_jobs=-1)(\n",
    "        delayed(treino_e_avaliacao)(X, y, novas_arqs[j]) for _ in range(100)\n",
    "    )\n",
    "\n",
    "    acuracias_arquitetura_i_nh, f1scores_arquitetura_i_nh  = zip(*resultados)\n",
    "\n",
    "    resultados_arquitetura_i_nh = (np.mean(f1scores_arquitetura_i_nh), np.mean(acuracias_arquitetura_i_nh), j) # Armazena a media das acuracias, f1scores e o indice da arquitetura\n",
    "\n",
    "    media_geral_nh.append(resultados_arquitetura_i_nh)\n",
    "        \n",
    "\n"
   ]
  },
  {
   "cell_type": "code",
   "execution_count": null,
   "metadata": {},
   "outputs": [],
   "source": [
    "teste2_top3 = gerar_top3(media_geral_nh)"
   ]
  },
  {
   "cell_type": "markdown",
   "metadata": {},
   "source": [
    "## Testando as Redes Neurais com Atributos Categóricos\n",
    "\n",
    "1. Considere as 6 redes neurais obtidas nos dois top-3 anteriores (arquiteturas próprias e regra da pirâmide geométrica)\n",
    "2. Com todos os atributos preditores da base de dados original, incluindo os categóricos, treine e teste estas mesmas redes por 100 repetições  \n",
    "    2.1 Considere o melhor otimizador para cada uma delas  \n",
    "    2.2 Faça uso de 200 épocas para treinamento  \n",
    "    2.2 Apresente os resultados de acurácia e F-Score em termos da média +- dp para cada arquitetura\n",
    "3. Apresente o gráfico boxplot para o F-Score das 6 arquiteturas perante as 100 repetições"
   ]
  },
  {
   "cell_type": "code",
   "execution_count": null,
   "metadata": {},
   "outputs": [],
   "source": [
    "\n",
    "top3_v1 = gerar_top3(media_geral_arquiteturas) # Lista que guarda o top3 da primeira iteração\n",
    "\n",
    "top3_v2 = gerar_top3(media_geral_nh) # Lista que guarda o top3 das arquiteturas com N_h\n",
    "\n",
    "top6=[] \n",
    "\n",
    "# Armazena a configuração das arquiteturas com base nos indices obtidos do top3\n",
    "top1, top2, top3 = arquiteturas[top3_v1[0][2]], arquiteturas[top3_v1[1][2]], arquiteturas[top3_v1[2][2]] \n",
    "top1_nh, top2_nh, top3_nh= novas_arqs[top3_v2[0][2]], novas_arqs[top3_v2[1][2]], novas_arqs[top3_v2[2][2]]\n",
    "\n",
    "# Armazena os 2 top3 na lista top6\n",
    "top6.append(top1)\n",
    "top6.append(top2)\n",
    "top6.append(top3)\n",
    "top6.append(top1_nh)\n",
    "top6.append(top2_nh)\n",
    "top6.append(top3_nh)\n",
    "\n",
    "\n"
   ]
  },
  {
   "cell_type": "code",
   "execution_count": null,
   "metadata": {},
   "outputs": [],
   "source": [
    "# Obter os dados sem os valores excluidos anteriormente\n",
    "new_df = pd.read_csv('covtype.csv')\n",
    "new_X, new_y = new_df.drop(columns = 'Cover_Type'), df['Cover_Type']"
   ]
  },
  {
   "cell_type": "code",
   "execution_count": null,
   "metadata": {},
   "outputs": [],
   "source": [
    "# Nova funcao de teste com a variável max_iter predefinida para todos como 200\n",
    "\n",
    "def treino_avaliacao_categoricos(X, y, arquitetura):\n",
    "    X_train, X_test, y_train, y_test, X_train_std, X_test_std = holdout_partition(X, y)\n",
    "    \n",
    "    \n",
    "    mlp = MLPClassifier(\n",
    "        hidden_layer_sizes = arquitetura[0],\n",
    "        activation = arquitetura[1],\n",
    "        solver = arquitetura[2],\n",
    "        max_iter = 200,\n",
    "        verbose = False\n",
    "    )\n",
    "\n",
    "    mlp.fit(X_train_std, y_train)\n",
    "    y_pred = mlp.predict(X_test_std)\n",
    "\n",
    "    acc = accuracy_score(y_test, y_pred)\n",
    "    f1 = f1_score(y_test, y_pred, average='weighted', zero_division=0)\n",
    "\n",
    "    return acc, f1"
   ]
  },
  {
   "cell_type": "code",
   "execution_count": null,
   "metadata": {},
   "outputs": [],
   "source": [
    "new_medias_gerais=[]\n",
    "for i in range (len(top6)):\n",
    "    new_resultados = Parallel(n_jobs=-1)(\n",
    "        delayed(treino_avaliacao_categoricos)(X, y, top6[i]) for _ in range (100)\n",
    "    )\n",
    "\n",
    "    new_acuracias_i, new_f1scores_i = zip(*new_resultados)\n",
    "\n",
    "    new_resultados_arq = (np.mean(new_acuracias_i), np.mean(new_f1scores_i), i)\n",
    "    new_medias_gerais.append(new_resultados_arq)\n",
    "    print(f\"\\nARQUITETURA {i} Camadas: {top6[i][0]} Acuracia: {np.mean(new_acuracias_i):.4f} +- {np.std(new_acuracias_i):.4f} F1-Score: {np.mean(new_f1scores_i):.4f} +- {np.std(new_f1scores_i):.4f}\\n\")\n"
   ]
  },
  {
   "cell_type": "markdown",
   "metadata": {},
   "source": [
    "## Considerações Parciais\n",
    "\n",
    "1. É possível identificar uma rede com desempenho superior às demais?\n",
    "2. Qual estratégia mostrou-se mais producente para a obtenção de boas arquiteturas (Estratégia Própria ou Pirâmide Geométrica)? Por quê?\n",
    "3. Considerar os atributos categóricos trouxe melhorias? Justifique.\n",
    "4. Um número maior de épocas trouxe melhorias?\n",
    "5. Qual a maior dificuldade de resolução do problema proposto perante as RNAs?"
   ]
  },
  {
   "cell_type": "code",
   "execution_count": null,
   "metadata": {},
   "outputs": [],
   "source": []
  }
 ],
 "metadata": {
  "kernelspec": {
   "display_name": "env_test",
   "language": "python",
   "name": "python3"
  },
  "language_info": {
   "codemirror_mode": {
    "name": "ipython",
    "version": 3
   },
   "file_extension": ".py",
   "mimetype": "text/x-python",
   "name": "python",
   "nbconvert_exporter": "python",
   "pygments_lexer": "ipython3",
   "version": "3.13.2"
  }
 },
 "nbformat": 4,
 "nbformat_minor": 4
}
